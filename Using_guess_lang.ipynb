{
 "metadata": {
  "name": "",
  "signature": "sha256:ae3128a2a82a8710df28c1324afbaa05dea1724e46eeeaa1cc8706658bde511f"
 },
 "nbformat": 3,
 "nbformat_minor": 0,
 "worksheets": [
  {
   "cells": [
    {
     "cell_type": "code",
     "collapsed": false,
     "input": [
      "import matplotlib.pyplot as plt\n",
      "import numpy as np\n",
      "import pandas as pd"
     ],
     "language": "python",
     "metadata": {},
     "outputs": [],
     "prompt_number": 67
    },
    {
     "cell_type": "code",
     "collapsed": false,
     "input": [
      "import guess_lang"
     ],
     "language": "python",
     "metadata": {},
     "outputs": [],
     "prompt_number": 68
    },
    {
     "cell_type": "code",
     "collapsed": false,
     "input": [
      "!python guess_lang"
     ],
     "language": "python",
     "metadata": {},
     "outputs": [
      {
       "output_type": "stream",
       "stream": "stdout",
       "text": [
        "Extra Trees Random Forest\r\n",
        "01 :     Clojure \t Correct!\r\n"
       ]
      },
      {
       "output_type": "stream",
       "stream": "stdout",
       "text": [
        "02 :     Clojure \t Correct!\r\n",
        "03 :        Ruby \t Incorrect: clojure\r\n"
       ]
      },
      {
       "output_type": "stream",
       "stream": "stdout",
       "text": [
        "04 :     Clojure \t Correct!\r\n",
        "05 :       Scala \t Incorrect: python\r\n",
        "06 :      Python \t Correct!\r\n"
       ]
      },
      {
       "output_type": "stream",
       "stream": "stdout",
       "text": [
        "07 :        Ruby \t Incorrect: python\r\n"
       ]
      },
      {
       "output_type": "stream",
       "stream": "stdout",
       "text": [
        "08 :      Python \t Correct!\r\n",
        "09 :  Javascript \t Correct!\r\n"
       ]
      },
      {
       "output_type": "stream",
       "stream": "stdout",
       "text": [
        "10 :  Javascript \t Correct!\r\n",
        "11 :  Javascript \t Correct!\r\n"
       ]
      },
      {
       "output_type": "stream",
       "stream": "stdout",
       "text": [
        "12 :         Tcl \t Incorrect: javascript\r\n"
       ]
      },
      {
       "output_type": "stream",
       "stream": "stdout",
       "text": [
        "13 :        Ruby \t Correct!\r\n",
        "14 :        Ruby \t Correct!\r\n",
        "15 :        Ruby \t Correct!\r\n"
       ]
      },
      {
       "output_type": "stream",
       "stream": "stdout",
       "text": [
        "16 :     Haskell \t Correct!\r\n"
       ]
      },
      {
       "output_type": "stream",
       "stream": "stdout",
       "text": [
        "17 :     Haskell \t Correct!\r\n",
        "18 :     Haskell \t Correct!\r\n"
       ]
      },
      {
       "output_type": "stream",
       "stream": "stdout",
       "text": [
        "19 :      Scheme \t Correct!\r\n",
        "20 :      Scheme \t Correct!\r\n"
       ]
      },
      {
       "output_type": "stream",
       "stream": "stdout",
       "text": [
        "21 :      Scheme \t Correct!\r\n",
        "22 :        Java \t Correct!\r\n"
       ]
      },
      {
       "output_type": "stream",
       "stream": "stdout",
       "text": [
        "23 :        Java \t Correct!\r\n",
        "24 :       Scala \t Correct!\r\n"
       ]
      },
      {
       "output_type": "stream",
       "stream": "stdout",
       "text": [
        "25 :       Scala \t Correct!\r\n",
        "26 :         Tcl \t Correct!\r\n"
       ]
      },
      {
       "output_type": "stream",
       "stream": "stdout",
       "text": [
        "27 :         Tcl \t Correct!\r\n",
        "28 :         Php \t Correct!\r\n"
       ]
      },
      {
       "output_type": "stream",
       "stream": "stdout",
       "text": [
        "29 :         Php \t Correct!\r\n",
        "30 :         Php \t Correct!\r\n"
       ]
      },
      {
       "output_type": "stream",
       "stream": "stdout",
       "text": [
        "31 :       Ocaml \t Correct!\r\n",
        "32 :       Ocaml \t Correct!\r\n",
        "Score: 0.875\r\n"
       ]
      }
     ],
     "prompt_number": 70
    },
    {
     "cell_type": "code",
     "collapsed": false,
     "input": [
      "!python guess_lang multi_table.java"
     ],
     "language": "python",
     "metadata": {},
     "outputs": [
      {
       "output_type": "stream",
       "stream": "stdout",
       "text": [
        "Extra Trees Random Forest\r\n"
       ]
      },
      {
       "output_type": "stream",
       "stream": "stdout",
       "text": [
        "1 :  Java\r\n"
       ]
      }
     ],
     "prompt_number": 76
    },
    {
     "cell_type": "code",
     "collapsed": false,
     "input": [
      "!python guess_lang scanner.py"
     ],
     "language": "python",
     "metadata": {},
     "outputs": [
      {
       "output_type": "stream",
       "stream": "stdout",
       "text": [
        "Extra Trees Random Forest\r\n"
       ]
      },
      {
       "output_type": "stream",
       "stream": "stdout",
       "text": [
        "1 :  Python\r\n"
       ]
      }
     ],
     "prompt_number": 77
    },
    {
     "cell_type": "code",
     "collapsed": false,
     "input": [
      "!python guess_lang methods.rb"
     ],
     "language": "python",
     "metadata": {},
     "outputs": [
      {
       "output_type": "stream",
       "stream": "stdout",
       "text": [
        "Extra Trees Random Forest\r\n",
        "1 :  Ruby\r\n"
       ]
      }
     ],
     "prompt_number": 78
    },
    {
     "cell_type": "code",
     "collapsed": false,
     "input": [],
     "language": "python",
     "metadata": {},
     "outputs": []
    }
   ],
   "metadata": {}
  }
 ]
}